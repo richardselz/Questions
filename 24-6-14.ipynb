{
 "cells": [
  {
   "cell_type": "markdown",
   "metadata": {},
   "source": [
    "You are given a List<List<string>>, you can control how it's created, approximately like so\n",
    "\n",
    "var listOfStringOfListOfString = bigLargeTable.Select(x=> new{ x.StringA, x.StringB, x.StringC, x.VeryLongStringD, x.StringE, x.StringF}).ToList();\n",
    "\n",
    "You have been converting it to html table like so\n",
    "\n",
    "var sb = new StringBuilder(\"<table>\");\n",
    "\n",
    "private List<string> CreateHeaders()\n",
    "{\n",
    "    return \"<tr><th>StringA</th><th>StringB</th><th>StringC</th><th>StringE</th><th>StringF</th></tr>\";\n",
    "}\n",
    "\n",
    "sb.AppendLine(CreateHeaders);\n",
    "\n",
    "foreach(var x in listOfStringOfListOfString) {\n",
    "    sb.Append(\"<tr><td>\");\n",
    "    sb.AppendLine(string.Join(\"</td><td>\", x);\n",
    "    sb.Append(\"</td></tr>\");\n",
    "}\n",
    "\n",
    "sb.AppendLine(\"</table>\");\n",
    "\n",
    "--- \n",
    "\n",
    "But you noticed that your VeryLongString Parameter is taking lots of space, and while it's being so narrow, it makes the table have lots of empty space in all columns but VeryLongString.\n",
    "\n",
    "Figure out an algorithm to put VeryLongString into it's own row, keep it together with the row that it belongs to."
   ]
  },
  {
   "cell_type": "code",
   "execution_count": 10,
   "metadata": {},
   "outputs": [
    {
     "name": "stdout",
     "output_type": "stream",
     "text": [
      "4\n",
      "<tr><td>StringA</td><td>StringB</td><td>StringC</td><td>StringE</td></tr><tr><td colspan='4'>VeryLongStringD</td></tr><tr><td colspan='4'>VeryLongStringF</td></tr>\n",
      "['VeryLongStringD', 'VeryLongStringF']\n",
      "<table><tr><td>StringA</td><td>StringB</td><td>StringC</td><td>StringE</td></tr><tr><td colspan='4'>VeryLongStringD</td></tr><tr><td colspan='4'>VeryLongStringF</td></tr><tr><td>StringA</td><td>StringB</td><td>StringC</td><td>StringE</td></tr><tr><td colspan='4'>VeryLongStringD</td></tr><tr><td colspan='4'>VeryLongStringF</td></tr></table>\n"
     ]
    }
   ],
   "source": [
    "# The table rows should look like the following, removing the longest string and appending it in it's own row.\n",
    "# <tr><td>StringA</td><td>StringB</td><td>StringC</td><td>StringE</td><td>StringF</td></tr><tr><td colspan=\"x\">VeryLongStringD</td></tr>\n",
    "\n",
    "# Will there be more than one 'long' string?\n",
    "# Just 1 to start\n",
    "# Is the length decided before hand for what is considered to be a long string?\n",
    "# Anything longer than 7 characters or 4th (index 3) column is the long column\n",
    "string_list = [['StringA', 'StringB', 'StringC', 'VeryLongStringD', 'StringE', 'VeryLongStringF'], ['StringA', 'StringB', 'StringC', 'VeryLongStringD', 'StringE', 'VeryLongStringF']]\n",
    "\n",
    "table_string = '<table>'\n",
    "\n",
    "for strings in string_list:\n",
    "    col_number = 0\n",
    "    row_string = '<tr>'\n",
    "    long_strings = []\n",
    "    for string in strings:\n",
    "        if len(string) <= 7:\n",
    "            col_number += 1\n",
    "            row_string += f\"<td>{string}</td>\"\n",
    "        else:\n",
    "            long_strings.append(string)\n",
    "    row_string += \"</tr>\"\n",
    "\n",
    "    for string in long_strings:\n",
    "        row_string += f\"<tr><td colspan='{col_number}'>{string}</td></tr>\"\n",
    "    table_string += row_string\n",
    "\n",
    "table_string += '</table>'\n",
    "print(col_number)\n",
    "print(row_string)\n",
    "print(long_strings)\n",
    "print(table_string)"
   ]
  },
  {
   "cell_type": "code",
   "execution_count": 13,
   "metadata": {},
   "outputs": [
    {
     "name": "stdout",
     "output_type": "stream",
     "text": [
      "4\n",
      "<tr><td>StringA</td><td>StringB</td><td>StringC</td><td>StringE</td></tr><tr><td colspan='2'>VeryLongStringD</td><td colspan='2'>VeryLongStringF</td>\n",
      "['VeryLongStringD', 'VeryLongStringF']\n",
      "<table><tr><td>StringA</td><td>StringB</td><td>StringC</td><td>StringE</td></tr><tr><td colspan='2'>VeryLongStringD</td><td colspan='2'>VeryLongStringF</td></tr><tr><td>StringA</td><td>StringB</td><td>StringC</td><td>StringE</td></tr><tr><td colspan='2'>VeryLongStringD</td><td colspan='2'>VeryLongStringF</td></tr></table>\n"
     ]
    }
   ],
   "source": [
    "string_list = [['StringA', 'StringB', 'StringC', 'VeryLongStringD', 'StringE', 'VeryLongStringF'], ['StringA', 'StringB', 'StringC', 'VeryLongStringD', 'StringE', 'VeryLongStringF']]\n",
    "\n",
    "table_string = '<table>'\n",
    "\n",
    "for strings in string_list:\n",
    "    col_number = 0\n",
    "    row_string = '<tr>'\n",
    "    long_strings = []\n",
    "    for string in strings:\n",
    "        if len(string) <= 7:\n",
    "            col_number += 1\n",
    "            row_string += f\"<td>{string}</td>\"\n",
    "        else:\n",
    "            long_strings.append(string)\n",
    "    row_string += \"</tr>\"\n",
    "\n",
    "    for i, string in enumerate(long_strings):\n",
    "        if i == 0:\n",
    "            row_string += '<tr>'\n",
    "        row_string += f\"<td colspan='{col_number//len(long_strings)}'>{string}</td>\"\n",
    "    table_string += row_string + '</tr>'\n",
    "\n",
    "table_string += '</table>'\n",
    "print(col_number)\n",
    "print(row_string)\n",
    "print(long_strings)\n",
    "print(table_string)"
   ]
  }
 ],
 "metadata": {
  "kernelspec": {
   "display_name": "Python 3",
   "language": "python",
   "name": "python3"
  },
  "language_info": {
   "codemirror_mode": {
    "name": "ipython",
    "version": 3
   },
   "file_extension": ".py",
   "mimetype": "text/x-python",
   "name": "python",
   "nbconvert_exporter": "python",
   "pygments_lexer": "ipython3",
   "version": "3.10.7"
  }
 },
 "nbformat": 4,
 "nbformat_minor": 2
}

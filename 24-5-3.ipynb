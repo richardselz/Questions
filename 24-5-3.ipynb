{
 "cells": [
  {
   "cell_type": "code",
   "execution_count": 1,
   "metadata": {},
   "outputs": [
    {
     "name": "stdout",
     "output_type": "stream",
     "text": [
      "The largest number is: 9\n"
     ]
    }
   ],
   "source": [
    "# Write a function that returns the largets element in a list.\n",
    "list_of_numbers = [1,2,3,4,5,6,7,8,9]\n",
    "\n",
    "largest_number = 0\n",
    "for number in list_of_numbers:\n",
    "    if number > largest_number:\n",
    "        largest_number = number\n",
    "\n",
    "print(f\"The largest number is: {largest_number}\")"
   ]
  },
  {
   "cell_type": "code",
   "execution_count": 12,
   "metadata": {},
   "outputs": [
    {
     "name": "stdout",
     "output_type": "stream",
     "text": [
      "List of Numbers Reversed: [9, 8, 7, 6, 5, 4, 3, 2, 1]\n"
     ]
    }
   ],
   "source": [
    "# Write a function that reverses a list\n",
    "list_of_numbers = [1,2,3,4,5,6,7,8,9]\n",
    "\n",
    "for i, number in enumerate(list_of_numbers):\n",
    "    if (i > len(list_of_numbers)/2 - 1):\n",
    "        break\n",
    "    \n",
    "    list_of_numbers[i] = list_of_numbers[len(list_of_numbers)-i-1]\n",
    "    list_of_numbers[len(list_of_numbers)-i-1] = number\n",
    "\n",
    "print(f\"List of Numbers Reversed: {list_of_numbers}\")"
   ]
  },
  {
   "cell_type": "code",
   "execution_count": 22,
   "metadata": {},
   "outputs": [
    {
     "name": "stdout",
     "output_type": "stream",
     "text": [
      "Reverse list of numbers: [9, 8, 7, 6, 5, 4, 3, 2, 1]\n"
     ]
    }
   ],
   "source": [
    "# Write a function that reverses a list\n",
    "list_of_numbers = [1,2,3,4,5,6,7,8,9]\n",
    "reverse_list_of_numbers = []\n",
    "\n",
    "for i in range(len(list_of_numbers)-1, -1, -1):\n",
    "    reverse_list_of_numbers.append(list_of_numbers[i])\n",
    "\n",
    "print(f\"Reverse list of numbers: {reverse_list_of_numbers}\")"
   ]
  },
  {
   "cell_type": "code",
   "execution_count": 26,
   "metadata": {},
   "outputs": [
    {
     "name": "stdout",
     "output_type": "stream",
     "text": [
      "[9, 8, 7, 6, 5, 4, 3, 2, 1]\n"
     ]
    }
   ],
   "source": [
    "# Write a function that reverses a list\n",
    "list_of_numbers = [1,2,3,4,5,6,7,8,9]\n",
    "print(list(reversed(list_of_numbers)))"
   ]
  },
  {
   "cell_type": "code",
   "execution_count": 28,
   "metadata": {},
   "outputs": [
    {
     "name": "stdout",
     "output_type": "stream",
     "text": [
      "4\n"
     ]
    }
   ],
   "source": [
    "# Write a function that checks whether an element occurs in a list\n",
    "list_of_numbers = [1,2,3,4,5,6,7,8,9]\n",
    "\n",
    "print(list_of_numbers.index(5))"
   ]
  },
  {
   "cell_type": "code",
   "execution_count": 29,
   "metadata": {},
   "outputs": [
    {
     "name": "stdout",
     "output_type": "stream",
     "text": [
      "Is number in list (5): True\n",
      "Is number in list (10): False\n"
     ]
    }
   ],
   "source": [
    "# Write a function that checks whether an element occurs in a list\n",
    "list_of_numbers = [1,2,3,4,5,6,7,8,9]\n",
    "\n",
    "def find_value(val):\n",
    "    for number in list_of_numbers:\n",
    "        if number == val:\n",
    "            return True\n",
    "    return False\n",
    "\n",
    "print(f\"Is number in list (5): {find_value(5)}\")\n",
    "print(f\"Is number in list (10): {find_value(10)}\")"
   ]
  },
  {
   "cell_type": "code",
   "execution_count": 31,
   "metadata": {},
   "outputs": [
    {
     "name": "stdout",
     "output_type": "stream",
     "text": [
      "Is number in list (5): True\n",
      "Is number in list (10): False\n"
     ]
    }
   ],
   "source": [
    "# Write a function that checks whether an element occurs in a list\n",
    "list_of_numbers = [1,2,3,4,5,6,7,8,9,5]\n",
    "\n",
    "def find_value(val):\n",
    "    occurences = 0\n",
    "    for number in list_of_numbers:\n",
    "        if number == val:\n",
    "            occurences += 1\n",
    "        if occurences > 1:\n",
    "            return True\n",
    "    return False\n",
    "\n",
    "print(f\"Is number in list (5): {find_value(5)}\")\n",
    "print(f\"Is number in list (10): {find_value(10)}\")"
   ]
  },
  {
   "cell_type": "code",
   "execution_count": 33,
   "metadata": {},
   "outputs": [
    {
     "name": "stdout",
     "output_type": "stream",
     "text": [
      "Is 'civic' a palindrome? True\n",
      "Is 'civi' a palindrome? False\n"
     ]
    }
   ],
   "source": [
    "# Write a function that tests whether a string is a palindrone\n",
    "is_palindrome = \"civic\"\n",
    "# is_palindrome[0] == is_palindrome[4]\n",
    "# is_palindrome[1] == is_palidrome[3]\n",
    "# end at half\n",
    "\n",
    "def is_palindrome(val):\n",
    "    for i, char in enumerate(val):\n",
    "        last_char = val[len(val)-i-1]\n",
    "        if i > len(val)/2:\n",
    "            break\n",
    "        if char != last_char:\n",
    "            return False\n",
    "    \n",
    "    return True\n",
    "\n",
    "print(f\"Is 'civic' a palindrome? {is_palindrome('civic')}\")\n",
    "print(f\"Is 'civi' a palindrome? {is_palindrome('civi')}\")"
   ]
  }
 ],
 "metadata": {
  "kernelspec": {
   "display_name": "Python 3",
   "language": "python",
   "name": "python3"
  },
  "language_info": {
   "codemirror_mode": {
    "name": "ipython",
    "version": 3
   },
   "file_extension": ".py",
   "mimetype": "text/x-python",
   "name": "python",
   "nbconvert_exporter": "python",
   "pygments_lexer": "ipython3",
   "version": "3.10.7"
  }
 },
 "nbformat": 4,
 "nbformat_minor": 2
}
